{
 "cells": [
  {
   "cell_type": "markdown",
   "metadata": {},
   "source": [
    "### Create Spark Session"
   ]
  },
  {
   "cell_type": "code",
   "execution_count": 1,
   "metadata": {},
   "outputs": [],
   "source": [
    "from pyspark.sql import SparkSession\n",
    "from pyspark.sql.functions import col\n",
    "\n",
    "\n",
    "spark = SparkSession.builder \\\n",
    "    .appName(\"My App\") \\\n",
    "    .getOrCreate()\n"
   ]
  },
  {
   "cell_type": "markdown",
   "metadata": {},
   "source": [
    "### Load CSV data into dataframe"
   ]
  },
  {
   "cell_type": "code",
   "execution_count": 2,
   "metadata": {},
   "outputs": [
    {
     "name": "stdout",
     "output_type": "stream",
     "text": [
      "+-----+-----+------+-----+----+-----+----+-----+------+\n",
      "| Sell| List|Living|Rooms|Beds|Baths| Age|Acres| Taxes|\n",
      "+-----+-----+------+-----+----+-----+----+-----+------+\n",
      "|142.0|160.0|  28.0| 10.0| 5.0|  3.0|60.0| 0.28|3167.0|\n",
      "|175.0|180.0|  18.0|  8.0| 4.0|  1.0|12.0| 0.43|4033.0|\n",
      "|129.0|132.0|  13.0|  6.0| 3.0|  1.0|41.0| 0.33|1471.0|\n",
      "|138.0|140.0|  17.0|  7.0| 3.0|  1.0|22.0| 0.46|3204.0|\n",
      "|232.0|240.0|  25.0|  8.0| 4.0|  3.0| 5.0| 2.05|3613.0|\n",
      "|135.0|140.0|  18.0|  7.0| 4.0|  3.0| 9.0| 0.57|3028.0|\n",
      "|150.0|160.0|  20.0|  8.0| 4.0|  3.0|18.0|  4.0|3131.0|\n",
      "|207.0|225.0|  22.0|  8.0| 4.0|  2.0|16.0| 2.22|5158.0|\n",
      "|271.0|285.0|  30.0| 10.0| 5.0|  2.0|30.0| 0.53|5702.0|\n",
      "| 89.0| 90.0|  10.0|  5.0| 3.0|  1.0|43.0|  0.3|2054.0|\n",
      "|153.0|157.0|  22.0|  8.0| 3.0|  3.0|18.0| 0.38|4127.0|\n",
      "| 87.0| 90.0|  16.0|  7.0| 3.0|  1.0|50.0| 0.65|1445.0|\n",
      "|234.0|238.0|  25.0|  8.0| 4.0|  2.0| 2.0| 1.61|2087.0|\n",
      "|106.0|116.0|  20.0|  8.0| 4.0|  1.0|13.0| 0.22|2818.0|\n",
      "|175.0|180.0|  22.0|  8.0| 4.0|  2.0|15.0| 2.06|3917.0|\n",
      "|165.0|170.0|  17.0|  8.0| 4.0|  2.0|33.0| 0.46|2220.0|\n",
      "|166.0|170.0|  23.0|  9.0| 4.0|  2.0|37.0| 0.27|3498.0|\n",
      "|136.0|140.0|  19.0|  7.0| 3.0|  1.0|22.0| 0.63|3607.0|\n",
      "|148.0|160.0|  17.0|  7.0| 3.0|  2.0|13.0| 0.36|3648.0|\n",
      "|151.0|153.0|  19.0|  8.0| 4.0|  2.0|24.0| 0.34|3561.0|\n",
      "+-----+-----+------+-----+----+-----+----+-----+------+\n",
      "only showing top 20 rows\n",
      "\n"
     ]
    }
   ],
   "source": [
    "df = spark.read \\\n",
    "    .format(\"csv\") \\\n",
    "    .option(\"header\", \"true\") \\\n",
    "    .option(\"inferSchema\", \"true\") \\\n",
    "    .load(\"../data/homes.csv\")\n",
    "\n",
    "df.show()\n"
   ]
  },
  {
   "cell_type": "code",
   "execution_count": 3,
   "metadata": {},
   "outputs": [
    {
     "name": "stdout",
     "output_type": "stream",
     "text": [
      "+-----+------+----+------+\n",
      "| sell|living| age| taxes|\n",
      "+-----+------+----+------+\n",
      "|142.0|  28.0|60.0|3167.0|\n",
      "|129.0|  13.0|41.0|1471.0|\n",
      "| 87.0|  16.0|50.0|1445.0|\n",
      "+-----+------+----+------+\n",
      "\n",
      "+-----+------+----+------+\n",
      "| sell|living| age| taxes|\n",
      "+-----+------+----+------+\n",
      "|142.0|  28.0|60.0|3167.0|\n",
      "|129.0|  13.0|41.0|1471.0|\n",
      "| 87.0|  16.0|50.0|1445.0|\n",
      "+-----+------+----+------+\n",
      "\n"
     ]
    }
   ],
   "source": [
    "df.createOrReplaceTempView(\"homes\")\n",
    "\n",
    "spark.sql(\n",
    "    \"\"\"\n",
    "    SELECT Sell AS sell\n",
    "    , Living AS living\n",
    "    , Age AS age\n",
    "    , Taxes AS taxes \n",
    "    FROM homes\n",
    "    WHERE Age > 40\n",
    "    AND Living IN (28, 13, 16)\n",
    "    \"\"\"\n",
    ").show()\n",
    "\n",
    "df.select(\n",
    "    col(\"Sell\").alias(\"sell\"),\n",
    "    col(\"Living\").alias(\"living\"),\n",
    "    col(\"Age\").alias(\"age\"),\n",
    "    col(\"Taxes\").alias(\"taxes\"),\n",
    ").where(\n",
    "    (df.Age > 40) & (df.Living.isin([28, 13, 16]))\n",
    ").show()\n"
   ]
  },
  {
   "cell_type": "code",
   "execution_count": null,
   "metadata": {},
   "outputs": [],
   "source": []
  }
 ],
 "metadata": {
  "kernelspec": {
   "display_name": "pyspark-demo",
   "language": "python",
   "name": "python3"
  },
  "language_info": {
   "codemirror_mode": {
    "name": "ipython",
    "version": 3
   },
   "file_extension": ".py",
   "mimetype": "text/x-python",
   "name": "python",
   "nbconvert_exporter": "python",
   "pygments_lexer": "ipython3",
   "version": "3.11.8"
  }
 },
 "nbformat": 4,
 "nbformat_minor": 2
}
